{
 "cells": [
  {
   "cell_type": "code",
   "execution_count": 1,
   "metadata": {},
   "outputs": [],
   "source": [
    "%matplotlib inline \n",
    "from scipy import stats\n",
    "import matplotlib.pyplot as plt \n",
    "import pandas as pd \n",
    "import numpy as np"
   ]
  },
  {
   "cell_type": "code",
   "execution_count": 2,
   "metadata": {},
   "outputs": [
    {
     "name": "stdout",
     "output_type": "stream",
     "text": [
      "['Alameda' 'Alpine' 'Amador' 'Butte' 'Calaveras' 'California' 'Colusa'\n",
      " 'Contra Costa' 'Del Norte' 'El Dorado' 'Fresno' 'Glenn' 'Humboldt'\n",
      " 'Imperial' 'Inyo' 'Kern' 'Kings' 'Lake' 'Lassen' 'Los Angeles' 'Madera'\n",
      " 'Marin' 'Mariposa' 'Mendocino' 'Merced' 'Modoc' 'Mono' 'Monterey' 'Napa'\n",
      " 'Nevada' 'Orange' 'Placer' 'Plumas' 'Riverside' 'Sacramento' 'San Benito'\n",
      " 'San Bernardino' 'San Diego' 'San Francisco' 'San Joaquin'\n",
      " 'San Luis Obispo' 'San Mateo' 'Santa Barbara' 'Santa Clara' 'Santa Cruz'\n",
      " 'Shasta' 'Sierra' 'Siskiyou' 'Solano' 'Sonoma' 'Stanislaus' 'Sutter'\n",
      " 'Tehama' 'Trinity' 'Tulare' 'Tuolumne' 'Ventura' 'Yolo' 'Yuba']\n"
     ]
    }
   ],
   "source": [
    "vaccine_data_to_load = \"vaccine-preventable-disease-cases-by-county-and-year-2.csv\" \n",
    "\n",
    "\n",
    "#Read the Mouse and Drug Data and the Clinical Trial Data\n",
    "Vax_Data = pd.read_csv(\"vaccine-preventable-disease-cases-by-county-and-year-2.csv\") \n",
    "print(Vax_Data.iloc[:,1].unique())\n"
   ]
  },
  {
   "cell_type": "code",
   "execution_count": 3,
   "metadata": {},
   "outputs": [
    {
     "name": "stdout",
     "output_type": "stream",
     "text": [
      "    county  disease  year  count\n",
      "0  Alameda  Measles  2001      1\n",
      "1  Alameda  Measles  2002      0\n",
      "2  Alameda  Measles  2003      2\n",
      "3  Alameda  Measles  2004      0\n",
      "4  Alameda  Measles  2005      0\n"
     ]
    },
    {
     "data": {
      "text/plain": [
       "array(['Alameda', 'El Dorado', 'Kern', 'Los Angeles', 'Merced', 'Napa',\n",
       "       'Orange', 'Sacramento', 'San Diego', 'San Mateo', 'Santa Barbara',\n",
       "       'Sierra', 'Sonoma', 'Ventura', 'Yuba'], dtype=object)"
      ]
     },
     "execution_count": 3,
     "metadata": {},
     "output_type": "execute_result"
    }
   ],
   "source": [
    "#dd_drop = Vax_Data.groupby(\"disease\").first()\n",
    "#dd_drop.drop([\"Diphtheria\",\"Hepatitis A\", \"Hepatitis B, Acute\", \"Hepatitis C, Acute\", \"Invasive Meningococcal Disease\", \"Rubella\", \"Varicella Hospitalizations\"])\n",
    "dd = Vax_Data.set_index(\"disease\")\n",
    "dd_drop = dd.drop([\"Diphtheria\",\"Hepatitis A\", \"Hepatitis B, Acute\", \"Hepatitis C, Acute\", \"Invasive Meningococcal Disease\", \"Rubella\", \"Varicella Hospitalizations\"])\n",
    "dd_drop = dd_drop.reset_index()\n",
    "dd_drop_counties = dd_drop.set_index(\"county\")\n",
    "\n",
    "dd_complete_4 = dd_drop_counties.drop([ 'Alpine', 'Amador', 'Butte', 'Calaveras', 'California', 'Colusa',\n",
    " 'Contra Costa', 'Del Norte', 'El Dorado', 'Fresno', 'Glenn' ,'Humboldt',\n",
    " 'Imperial', 'Inyo', 'Kern' ,'Kings' ,'Lake' ,'Lassen', 'Madera',\n",
    " 'Marin', 'Mariposa', 'Mendocino', 'Merced', 'Modoc', 'Mono', 'Monterey', 'Napa',\n",
    " 'Nevada' ,'Orange', 'Placer' ,'Plumas', 'Riverside', 'Sacramento' ,'San Benito',\n",
    " 'San Bernardino', 'San Diego' ,'San Francisco', 'San Joaquin',\n",
    " 'San Luis Obispo', 'San Mateo', 'Santa Barbara' ,'Santa Clara' ,'Santa Cruz',\n",
    " 'Shasta' ,'Sierra', 'Siskiyou' ,'Solano' ,'Stanislaus', 'Sutter',\n",
    " 'Tehama', 'Trinity', 'Tulare', 'Tuolumne', 'Ventura' ,'Yolo'])\n",
    "dd_complete_4 = dd_complete_4.reset_index()\n",
    "\n",
    "dd_complete_15 = dd_drop_counties.drop([ 'Alpine', 'Amador', 'Butte', 'Calaveras', 'California', 'Colusa',\n",
    " 'Contra Costa', 'Del Norte', 'Fresno', 'Glenn' ,'Humboldt',\n",
    " 'Imperial', 'Inyo', 'Kings' ,'Lake' ,'Lassen', 'Madera',\n",
    " 'Marin', 'Mariposa', 'Mendocino', 'Modoc', 'Mono', 'Monterey',\n",
    " 'Nevada' , 'Placer' ,'Plumas', 'Riverside' ,'San Benito',\n",
    " 'San Bernardino' ,'San Francisco', 'San Joaquin',\n",
    " 'San Luis Obispo' ,'Santa Clara' ,'Santa Cruz',\n",
    " 'Shasta' , 'Siskiyou' ,'Solano' ,'Stanislaus', 'Sutter',\n",
    " 'Tehama', 'Trinity', 'Tulare', 'Tuolumne' ,'Yolo'])\n",
    "dd_complete_15 = dd_complete_15.reset_index()\n",
    "\n",
    "print(dd_complete_4.head())\n",
    "dd_complete_15[\"county\"].unique()\n"
   ]
  },
  {
   "cell_type": "code",
   "execution_count": 6,
   "metadata": {},
   "outputs": [
    {
     "data": {
      "text/html": [
       "<div>\n",
       "<style scoped>\n",
       "    .dataframe tbody tr th:only-of-type {\n",
       "        vertical-align: middle;\n",
       "    }\n",
       "\n",
       "    .dataframe tbody tr th {\n",
       "        vertical-align: top;\n",
       "    }\n",
       "\n",
       "    .dataframe thead th {\n",
       "        text-align: right;\n",
       "    }\n",
       "</style>\n",
       "<table border=\"1\" class=\"dataframe\">\n",
       "  <thead>\n",
       "    <tr style=\"text-align: right;\">\n",
       "      <th></th>\n",
       "      <th>county</th>\n",
       "      <th>disease</th>\n",
       "      <th>year</th>\n",
       "      <th>count</th>\n",
       "    </tr>\n",
       "  </thead>\n",
       "  <tbody>\n",
       "    <tr>\n",
       "      <th>0</th>\n",
       "      <td>Alameda</td>\n",
       "      <td>Measles</td>\n",
       "      <td>2001</td>\n",
       "      <td>1</td>\n",
       "    </tr>\n",
       "    <tr>\n",
       "      <th>1</th>\n",
       "      <td>Alameda</td>\n",
       "      <td>Measles</td>\n",
       "      <td>2002</td>\n",
       "      <td>0</td>\n",
       "    </tr>\n",
       "    <tr>\n",
       "      <th>2</th>\n",
       "      <td>Alameda</td>\n",
       "      <td>Measles</td>\n",
       "      <td>2003</td>\n",
       "      <td>2</td>\n",
       "    </tr>\n",
       "    <tr>\n",
       "      <th>3</th>\n",
       "      <td>Alameda</td>\n",
       "      <td>Measles</td>\n",
       "      <td>2004</td>\n",
       "      <td>0</td>\n",
       "    </tr>\n",
       "    <tr>\n",
       "      <th>4</th>\n",
       "      <td>Alameda</td>\n",
       "      <td>Measles</td>\n",
       "      <td>2005</td>\n",
       "      <td>0</td>\n",
       "    </tr>\n",
       "  </tbody>\n",
       "</table>\n",
       "</div>"
      ],
      "text/plain": [
       "    county  disease  year  count\n",
       "0  Alameda  Measles  2001      1\n",
       "1  Alameda  Measles  2002      0\n",
       "2  Alameda  Measles  2003      2\n",
       "3  Alameda  Measles  2004      0\n",
       "4  Alameda  Measles  2005      0"
      ]
     },
     "execution_count": 6,
     "metadata": {},
     "output_type": "execute_result"
    }
   ],
   "source": [
    "dd_complete_4.head()"
   ]
  },
  {
   "cell_type": "code",
   "execution_count": 8,
   "metadata": {},
   "outputs": [
    {
     "data": {
      "text/html": [
       "<div>\n",
       "<style scoped>\n",
       "    .dataframe tbody tr th:only-of-type {\n",
       "        vertical-align: middle;\n",
       "    }\n",
       "\n",
       "    .dataframe tbody tr th {\n",
       "        vertical-align: top;\n",
       "    }\n",
       "\n",
       "    .dataframe thead th {\n",
       "        text-align: right;\n",
       "    }\n",
       "</style>\n",
       "<table border=\"1\" class=\"dataframe\">\n",
       "  <thead>\n",
       "    <tr style=\"text-align: right;\">\n",
       "      <th></th>\n",
       "      <th>county</th>\n",
       "      <th>disease</th>\n",
       "      <th>year</th>\n",
       "      <th>count</th>\n",
       "    </tr>\n",
       "  </thead>\n",
       "  <tbody>\n",
       "    <tr>\n",
       "      <th>0</th>\n",
       "      <td>Alameda</td>\n",
       "      <td>Measles</td>\n",
       "      <td>2001</td>\n",
       "      <td>1</td>\n",
       "    </tr>\n",
       "    <tr>\n",
       "      <th>1</th>\n",
       "      <td>Alameda</td>\n",
       "      <td>Measles</td>\n",
       "      <td>2002</td>\n",
       "      <td>0</td>\n",
       "    </tr>\n",
       "    <tr>\n",
       "      <th>2</th>\n",
       "      <td>Alameda</td>\n",
       "      <td>Measles</td>\n",
       "      <td>2003</td>\n",
       "      <td>2</td>\n",
       "    </tr>\n",
       "    <tr>\n",
       "      <th>3</th>\n",
       "      <td>Alameda</td>\n",
       "      <td>Measles</td>\n",
       "      <td>2004</td>\n",
       "      <td>0</td>\n",
       "    </tr>\n",
       "    <tr>\n",
       "      <th>4</th>\n",
       "      <td>Alameda</td>\n",
       "      <td>Measles</td>\n",
       "      <td>2005</td>\n",
       "      <td>0</td>\n",
       "    </tr>\n",
       "  </tbody>\n",
       "</table>\n",
       "</div>"
      ],
      "text/plain": [
       "    county  disease  year  count\n",
       "0  Alameda  Measles  2001      1\n",
       "1  Alameda  Measles  2002      0\n",
       "2  Alameda  Measles  2003      2\n",
       "3  Alameda  Measles  2004      0\n",
       "4  Alameda  Measles  2005      0"
      ]
     },
     "execution_count": 8,
     "metadata": {},
     "output_type": "execute_result"
    }
   ],
   "source": [
    "dd_complete_15.head()"
   ]
  }
 ],
 "metadata": {
  "kernelspec": {
   "display_name": "Python 3",
   "language": "python",
   "name": "python3"
  },
  "language_info": {
   "codemirror_mode": {
    "name": "ipython",
    "version": 3
   },
   "file_extension": ".py",
   "mimetype": "text/x-python",
   "name": "python",
   "nbconvert_exporter": "python",
   "pygments_lexer": "ipython3",
   "version": "3.7.3"
  }
 },
 "nbformat": 4,
 "nbformat_minor": 2
}

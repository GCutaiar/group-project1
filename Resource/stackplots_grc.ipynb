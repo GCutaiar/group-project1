{
 "cells": [
  {
   "cell_type": "code",
   "execution_count": 121,
   "metadata": {},
   "outputs": [],
   "source": [
    "%matplotlib inline \n",
    "from scipy import stats\n",
    "import matplotlib.pyplot as plt \n",
    "import pandas as pd \n",
    "import numpy as np"
   ]
  },
  {
   "cell_type": "code",
   "execution_count": 122,
   "metadata": {},
   "outputs": [
    {
     "name": "stdout",
     "output_type": "stream",
     "text": [
      "['Alameda' 'Alpine' 'Amador' 'Butte' 'Calaveras' 'California' 'Colusa'\n",
      " 'Contra Costa' 'Del Norte' 'El Dorado' 'Fresno' 'Glenn' 'Humboldt'\n",
      " 'Imperial' 'Inyo' 'Kern' 'Kings' 'Lake' 'Lassen' 'Los Angeles' 'Madera'\n",
      " 'Marin' 'Mariposa' 'Mendocino' 'Merced' 'Modoc' 'Mono' 'Monterey' 'Napa'\n",
      " 'Nevada' 'Orange' 'Placer' 'Plumas' 'Riverside' 'Sacramento' 'San Benito'\n",
      " 'San Bernardino' 'San Diego' 'San Francisco' 'San Joaquin'\n",
      " 'San Luis Obispo' 'San Mateo' 'Santa Barbara' 'Santa Clara' 'Santa Cruz'\n",
      " 'Shasta' 'Sierra' 'Siskiyou' 'Solano' 'Sonoma' 'Stanislaus' 'Sutter'\n",
      " 'Tehama' 'Trinity' 'Tulare' 'Tuolumne' 'Ventura' 'Yolo' 'Yuba']\n"
     ]
    }
   ],
   "source": [
    "vaccine_data_to_load = \"vaccine-preventable-disease-cases-by-county-and-year-2.csv\" \n",
    "\n",
    "\n",
    "#Read the Mouse and Drug Data and the Clinical Trial Data\n",
    "Vax_Data = pd.read_csv(\"vaccine-preventable-disease-cases-by-county-and-year-2.csv\") \n",
    "print(Vax_Data.iloc[:,1].unique())\n"
   ]
  },
  {
   "cell_type": "code",
   "execution_count": 123,
   "metadata": {},
   "outputs": [
    {
     "name": "stdout",
     "output_type": "stream",
     "text": [
      "    county  disease  year  count\n",
      "0  Alameda  Measles  2001      1\n",
      "1  Alameda  Measles  2002      0\n",
      "2  Alameda  Measles  2003      2\n",
      "3  Alameda  Measles  2004      0\n",
      "4  Alameda  Measles  2005      0\n"
     ]
    },
    {
     "data": {
      "text/plain": [
       "array(['Measles', 'Mumps', 'Pertussis', 'Tetanus'], dtype=object)"
      ]
     },
     "execution_count": 123,
     "metadata": {},
     "output_type": "execute_result"
    }
   ],
   "source": [
    "#dd_drop = Vax_Data.groupby(\"disease\").first()\n",
    "#dd_drop.drop([\"Diphtheria\",\"Hepatitis A\", \"Hepatitis B, Acute\", \"Hepatitis C, Acute\", \"Invasive Meningococcal Disease\", \"Rubella\", \"Varicella Hospitalizations\"])\n",
    "dd = Vax_Data.set_index(\"disease\")\n",
    "dd_drop = dd.drop([\"Diphtheria\",\"Hepatitis A\", \"Hepatitis B, Acute\", \"Hepatitis C, Acute\", \"Invasive Meningococcal Disease\", \"Rubella\", \"Varicella Hospitalizations\"])\n",
    "dd_drop = dd_drop.reset_index()\n",
    "dd_drop_counties = dd_drop.set_index(\"county\")\n",
    "\n",
    "dd_complete_4 = dd_drop_counties.drop([ 'Alpine', 'Amador', 'Butte', 'Calaveras', 'California', 'Colusa',\n",
    " 'Contra Costa', 'Del Norte', 'El Dorado', 'Fresno', 'Glenn' ,'Humboldt',\n",
    " 'Imperial', 'Inyo', 'Kern' ,'Kings' ,'Lake' ,'Lassen', 'Madera',\n",
    " 'Marin', 'Mariposa', 'Mendocino', 'Merced', 'Modoc', 'Mono', 'Monterey', 'Napa',\n",
    " 'Nevada' ,'Orange', 'Placer' ,'Plumas', 'Riverside', 'Sacramento' ,'San Benito',\n",
    " 'San Bernardino', 'San Diego' ,'San Francisco', 'San Joaquin',\n",
    " 'San Luis Obispo', 'San Mateo', 'Santa Barbara' ,'Santa Clara' ,'Santa Cruz',\n",
    " 'Shasta' ,'Sierra', 'Siskiyou' ,'Solano' ,'Stanislaus', 'Sutter',\n",
    " 'Tehama', 'Trinity', 'Tulare', 'Tuolumne', 'Ventura' ,'Yolo'])\n",
    "dd_complete_4 = dd_complete_4.reset_index()\n",
    "\n",
    "dd_complete_15 = dd_drop_counties.drop([ 'Alpine', 'Amador', 'Butte', 'Calaveras', 'California', 'Colusa',\n",
    " 'Contra Costa', 'Del Norte', 'Fresno', 'Glenn' ,'Humboldt',\n",
    " 'Imperial', 'Inyo', 'Kings' ,'Lake' ,'Lassen', 'Madera',\n",
    " 'Marin', 'Mariposa', 'Mendocino', 'Modoc', 'Mono', 'Monterey',\n",
    " 'Nevada' , 'Placer' ,'Plumas', 'Riverside' ,'San Benito',\n",
    " 'San Bernardino' ,'San Francisco', 'San Joaquin',\n",
    " 'San Luis Obispo' ,'Santa Clara' ,'Santa Cruz',\n",
    " 'Shasta' , 'Siskiyou' ,'Solano' ,'Stanislaus', 'Sutter',\n",
    " 'Tehama', 'Trinity', 'Tulare', 'Tuolumne' ,'Yolo'])\n",
    "dd_complete_15 = dd_complete_15.reset_index()\n",
    "\n",
    "print(dd_complete_4.head())\n",
    "dd_complete_15[\"county\"].unique()\n",
    "dd_complete_15[\"disease\"].unique()\n"
   ]
  },
  {
   "cell_type": "code",
   "execution_count": 124,
   "metadata": {},
   "outputs": [
    {
     "data": {
      "text/html": [
       "<div>\n",
       "<style scoped>\n",
       "    .dataframe tbody tr th:only-of-type {\n",
       "        vertical-align: middle;\n",
       "    }\n",
       "\n",
       "    .dataframe tbody tr th {\n",
       "        vertical-align: top;\n",
       "    }\n",
       "\n",
       "    .dataframe thead th {\n",
       "        text-align: right;\n",
       "    }\n",
       "</style>\n",
       "<table border=\"1\" class=\"dataframe\">\n",
       "  <thead>\n",
       "    <tr style=\"text-align: right;\">\n",
       "      <th></th>\n",
       "      <th>county</th>\n",
       "      <th>disease</th>\n",
       "      <th>year</th>\n",
       "      <th>count</th>\n",
       "    </tr>\n",
       "  </thead>\n",
       "  <tbody>\n",
       "    <tr>\n",
       "      <th>0</th>\n",
       "      <td>Alameda</td>\n",
       "      <td>Measles</td>\n",
       "      <td>2001</td>\n",
       "      <td>1</td>\n",
       "    </tr>\n",
       "    <tr>\n",
       "      <th>1</th>\n",
       "      <td>Alameda</td>\n",
       "      <td>Measles</td>\n",
       "      <td>2002</td>\n",
       "      <td>0</td>\n",
       "    </tr>\n",
       "    <tr>\n",
       "      <th>2</th>\n",
       "      <td>Alameda</td>\n",
       "      <td>Measles</td>\n",
       "      <td>2003</td>\n",
       "      <td>2</td>\n",
       "    </tr>\n",
       "    <tr>\n",
       "      <th>3</th>\n",
       "      <td>Alameda</td>\n",
       "      <td>Measles</td>\n",
       "      <td>2004</td>\n",
       "      <td>0</td>\n",
       "    </tr>\n",
       "    <tr>\n",
       "      <th>4</th>\n",
       "      <td>Alameda</td>\n",
       "      <td>Measles</td>\n",
       "      <td>2005</td>\n",
       "      <td>0</td>\n",
       "    </tr>\n",
       "  </tbody>\n",
       "</table>\n",
       "</div>"
      ],
      "text/plain": [
       "    county  disease  year  count\n",
       "0  Alameda  Measles  2001      1\n",
       "1  Alameda  Measles  2002      0\n",
       "2  Alameda  Measles  2003      2\n",
       "3  Alameda  Measles  2004      0\n",
       "4  Alameda  Measles  2005      0"
      ]
     },
     "execution_count": 124,
     "metadata": {},
     "output_type": "execute_result"
    }
   ],
   "source": [
    "dd_complete_15.head()"
   ]
  },
  {
   "cell_type": "code",
   "execution_count": 125,
   "metadata": {},
   "outputs": [],
   "source": [
    "#la_meas_ct = dd_complete_15.query('county == \"Los Angeles\" and disease == \"Measles\"')\n",
    "#la_mump_ct = dd_complete_15.query('county == \"Los Angeles\" and disease == \"Mumps\"')\n",
    "#la_pert_ct = dd_complete_15.query('county == \"Los Angeles\" and disease == \"Pertussis\"')\n",
    "#la_teta_ct = dd_complete_15.query('county == \"Los Angeles\" and disease == \"Tetanus\"')\n",
    "#la_disease = pd.concat([la_meas_ct, la_mump_ct, la_pert_ct, la_teta_ct])\n",
    "#la_disease.head(20)\n",
    "\n",
    "#la_disease.plot.bar(x=\"year\", y=\"count\")\n",
    "\n",
    "# la_2_disease = pd.merge(la_meas_ct,la_mump_ct, on =[\"county\",\"year\"], how=\"left\")\n",
    "# la_2_disease = la_2_disease.rename(columns={\"count_x\":\"Measles count\",\"count_y\":\"Mumps count\"})\n",
    "# la_3_disease = pd.merge(la_2_disease,la_pert_ct, on =[\"county\",\"year\"], how=\"left\")\n",
    "# la_3_disease = la_3_disease.rename(columns={\"count\":\"Pertussis count\"})\n",
    "# la_all_disease = pd.merge(la_3_disease,la_teta_ct, on =[\"county\",\"year\"], how=\"left\")\n",
    "# la_all_disease = la_all_disease.rename(columns={\"count\":\"Tetanus count\"})\n",
    "# #la_all_disease.set_index(\"year\")\n",
    "# la_all_disease = la_all_disease[[\"county\",\"year\",\"Measles count\",\"Mumps count\",\"Pertussis count\",\"Tetanus count\"]]\n",
    "# la_all_disease.head(20)\n",
    "# years = ct_LA.columns\n",
    "# measl_count = ct_LA.iloc[0,:]\n",
    "# mumps_count = ct_LA.iloc[1,:]\n",
    "# la_meas_years = plt.bar(years,measl_count)\n",
    "# la_mump_years = plt.bar(years,mumps_count)\n",
    "#plt.show()"
   ]
  },
  {
   "cell_type": "code",
   "execution_count": 126,
   "metadata": {
    "scrolled": true
   },
   "outputs": [],
   "source": [
    "#piv_counties = dd_complete_15.pivot_table(\"count\",[\"county\",\"disease\"],\"year\")\n",
    "#piv_counties.fillna(0, inplace=True)\n",
    "#piv_counties = piv_counties[[2009,2010,2011,2012,2013,2014,2015,2016,2017]]\n",
    "#piv_counties.head()"
   ]
  },
  {
   "cell_type": "code",
   "execution_count": 155,
   "metadata": {},
   "outputs": [
    {
     "data": {
      "image/png": "[encoded data removed]",
      "text/plain": [
       "<Figure size 864x576 with 1 Axes>"
      ]
     },
     "metadata": {
      "needs_background": "light"
     },
     "output_type": "display_data"
    }
   ],
   "source": [
    "ct_LA = dd_complete_15.loc[dd_complete_15[\"county\"]==\"Los Angeles\"]\n",
    "pivLA_counties = ct_LA.pivot(index=\"year\",columns=\"disease\",values=\"count\")\n",
    "pivLA_counties.fillna(0, inplace=True)\n",
    "pivLA_counties.head(20)\n",
    "colors= [\"#A0F1D9\",\"#DE6BCF\",\"#2B86AB\",\"#1C010A\"]\n",
    "pivLA_counties.loc[:,[\"Pertussis\",\"Mumps\",\"Measles\",\"Tetanus\"]].plot.bar(stacked=True,color=colors,figsize=(12,8))\n",
    "plt.show()\n"
   ]
  },
  {
   "cell_type": "code",
   "execution_count": 104,
   "metadata": {},
   "outputs": [
    {
     "data": {
      "image/png": "[encoded data removed]",
      "text/plain": [
       "<Figure size 432x288 with 1 Axes>"
      ]
     },
     "metadata": {
      "needs_background": "light"
     },
     "output_type": "display_data"
    }
   ],
   "source": [
    "ct_LA = piv_counties.loc[\"Los Angeles\"]\n",
    "years = ct_LA.columns\n",
    "#years = [2009,2010,2011,2012,2013,2014,2015,2016,2017]\n",
    "#len_years = len(years)\n",
    "measl_count = ct_LA.iloc[0,:]\n",
    "mumps_count = ct_LA.iloc[1,:]\n",
    "pertu_count = ct_LA.iloc[2,:]\n",
    "tetan_count = ct_LA.iloc[3,:]\n",
    "diseases = [measl_count, mumps_count, pertu_count, tetan_count]\n",
    "la_meas_years = plt.bar(years,measl_count)\n",
    "la_mump_years = plt.bar(years,mumps_count)\n",
    "la_pert_years = plt.bar(years,pertu_count)\n",
    "la_teta_years = plt.bar(years,tetan_count)\n",
    "plt.show()\n",
    "#la_4_dis = ct_LA.plot.bar(x=len_years, y=diseases, stacked=True)\n"
   ]
  }
 ],
 "metadata": {
  "kernelspec": {
   "display_name": "Python 3",
   "language": "python",
   "name": "python3"
  },
  "language_info": {
   "codemirror_mode": {
    "name": "ipython",
    "version": 3
   },
   "file_extension": ".py",
   "mimetype": "text/x-python",
   "name": "python",
   "nbconvert_exporter": "python",
   "pygments_lexer": "ipython3",
   "version": "3.7.3"
  }
 },
 "nbformat": 4,
 "nbformat_minor": 2
}

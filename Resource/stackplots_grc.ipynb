{
 "cells": [
  {
   "cell_type": "code",
   "execution_count": 2,
   "metadata": {},
   "outputs": [],
   "source": [
    "%matplotlib inline \n",
    "from scipy import stats\n",
    "import matplotlib.pyplot as plt \n",
    "import pandas as pd \n",
    "import numpy as np"
   ]
  },
  {
   "cell_type": "code",
   "execution_count": 3,
   "metadata": {},
   "outputs": [
    {
     "name": "stdout",
     "output_type": "stream",
     "text": [
      "['Alameda' 'Alpine' 'Amador' 'Butte' 'Calaveras' 'California' 'Colusa'\n",
      " 'Contra Costa' 'Del Norte' 'El Dorado' 'Fresno' 'Glenn' 'Humboldt'\n",
      " 'Imperial' 'Inyo' 'Kern' 'Kings' 'Lake' 'Lassen' 'Los Angeles' 'Madera'\n",
      " 'Marin' 'Mariposa' 'Mendocino' 'Merced' 'Modoc' 'Mono' 'Monterey' 'Napa'\n",
      " 'Nevada' 'Orange' 'Placer' 'Plumas' 'Riverside' 'Sacramento' 'San Benito'\n",
      " 'San Bernardino' 'San Diego' 'San Francisco' 'San Joaquin'\n",
      " 'San Luis Obispo' 'San Mateo' 'Santa Barbara' 'Santa Clara' 'Santa Cruz'\n",
      " 'Shasta' 'Sierra' 'Siskiyou' 'Solano' 'Sonoma' 'Stanislaus' 'Sutter'\n",
      " 'Tehama' 'Trinity' 'Tulare' 'Tuolumne' 'Ventura' 'Yolo' 'Yuba']\n"
     ]
    }
   ],
   "source": [
    "vaccine_data_to_load = \"vaccine-preventable-disease-cases-by-county-and-year-2.csv\" \n",
    "Vax_Data = pd.read_csv(\"vaccine-preventable-disease-cases-by-county-and-year-2.csv\") \n",
    "print(Vax_Data.iloc[:,1].unique())"
   ]
  },
  {
   "cell_type": "code",
   "execution_count": 4,
   "metadata": {},
   "outputs": [
    {
     "name": "stdout",
     "output_type": "stream",
     "text": [
      "    county  year  disease  count\n",
      "0  Alameda  2009  Measles      0\n",
      "1  Alameda  2010  Measles      2\n",
      "2  Alameda  2011  Measles      1\n",
      "3  Alameda  2012  Measles      0\n",
      "4  Alameda  2013  Measles      1\n"
     ]
    },
    {
     "data": {
      "text/plain": [
       "array(['Measles', 'Mumps', 'Pertussis', 'Tetanus'], dtype=object)"
      ]
     },
     "execution_count": 4,
     "metadata": {},
     "output_type": "execute_result"
    }
   ],
   "source": [
    "dd_drop = Vax_Data.groupby(\"disease\").first()\n",
    "dd_drop.drop([\"Diphtheria\",\"Hepatitis A\", \"Hepatitis B, Acute\", \"Hepatitis C, Acute\", \"Invasive Meningococcal Disease\", \"Rubella\", \"Varicella Hospitalizations\"])\n",
    "dd = Vax_Data.set_index(\"disease\")\n",
    "dd_drop = dd.drop([\"Diphtheria\",\"Hepatitis A\", \"Hepatitis B, Acute\", \"Hepatitis C, Acute\", \"Invasive Meningococcal Disease\", \"Rubella\", \"Varicella Hospitalizations\"])\n",
    "dd_drop = dd_drop.reset_index()\n",
    "dd_drop_years = dd_drop.set_index(\"year\")\n",
    "dd_drop_years = dd_drop_years.drop([2001,2002,2003,2004,2005,2006,2007,2008])\n",
    "dd_drop_years = dd_drop_years.reset_index()\n",
    "dd_drop_counties = dd_drop_years.set_index(\"county\")\n",
    "\n",
    "dd_complete_4 = dd_drop_counties.drop([ 'Alpine', 'Amador', 'Butte', 'Calaveras', 'California', 'Colusa',\n",
    " 'Contra Costa', 'Del Norte', 'El Dorado', 'Fresno', 'Glenn' ,'Humboldt',\n",
    " 'Imperial', 'Inyo', 'Kern' ,'Kings' ,'Lake' ,'Lassen', 'Madera',\n",
    " 'Marin', 'Mariposa', 'Mendocino', 'Merced', 'Modoc', 'Mono', 'Monterey', 'Napa',\n",
    " 'Nevada' ,'Orange', 'Placer' ,'Plumas', 'Riverside', 'Sacramento' ,'San Benito',\n",
    " 'San Bernardino', 'San Diego' ,'San Francisco', 'San Joaquin',\n",
    " 'San Luis Obispo', 'San Mateo', 'Santa Barbara' ,'Santa Clara' ,'Santa Cruz',\n",
    " 'Shasta' ,'Sierra', 'Siskiyou' ,'Solano' ,'Stanislaus', 'Sutter',\n",
    " 'Tehama', 'Trinity', 'Tulare', 'Tuolumne', 'Ventura' ,'Yolo'])\n",
    "dd_complete_4 = dd_complete_4.reset_index()\n",
    "\n",
    "dd_complete_15 = dd_drop_counties.drop([ 'Alpine', 'Amador', 'Butte', 'Calaveras', 'California', 'Colusa',\n",
    " 'Contra Costa', 'Del Norte', 'Fresno', 'Glenn' ,'Humboldt',\n",
    " 'Imperial', 'Inyo', 'Kings' ,'Lake' ,'Lassen', 'Madera',\n",
    " 'Marin', 'Mariposa', 'Mendocino', 'Modoc', 'Mono', 'Monterey',\n",
    " 'Nevada' , 'Placer' ,'Plumas', 'Riverside' ,'San Benito',\n",
    " 'San Bernardino' ,'San Francisco', 'San Joaquin',\n",
    " 'San Luis Obispo' ,'Santa Clara' ,'Santa Cruz',\n",
    " 'Shasta' , 'Siskiyou' ,'Solano' ,'Stanislaus', 'Sutter',\n",
    " 'Tehama', 'Trinity', 'Tulare', 'Tuolumne' ,'Yolo'])\n",
    "dd_complete_15 = dd_complete_15.reset_index()\n",
    "\n",
    "print(dd_complete_4.head())\n",
    "dd_complete_15[\"county\"].unique()\n",
    "dd_complete_15[\"disease\"].unique()\n"
   ]
  },
  {
   "cell_type": "code",
   "execution_count": 5,
   "metadata": {},
   "outputs": [
    {
     "data": {
      "text/html": [
       "<div>\n",
       "<style scoped>\n",
       "    .dataframe tbody tr th:only-of-type {\n",
       "        vertical-align: middle;\n",
       "    }\n",
       "\n",
       "    .dataframe tbody tr th {\n",
       "        vertical-align: top;\n",
       "    }\n",
       "\n",
       "    .dataframe thead th {\n",
       "        text-align: right;\n",
       "    }\n",
       "</style>\n",
       "<table border=\"1\" class=\"dataframe\">\n",
       "  <thead>\n",
       "    <tr style=\"text-align: right;\">\n",
       "      <th></th>\n",
       "      <th>county</th>\n",
       "      <th>year</th>\n",
       "      <th>disease</th>\n",
       "      <th>count</th>\n",
       "    </tr>\n",
       "  </thead>\n",
       "  <tbody>\n",
       "    <tr>\n",
       "      <th>0</th>\n",
       "      <td>Alameda</td>\n",
       "      <td>2009</td>\n",
       "      <td>Measles</td>\n",
       "      <td>0</td>\n",
       "    </tr>\n",
       "    <tr>\n",
       "      <th>1</th>\n",
       "      <td>Alameda</td>\n",
       "      <td>2010</td>\n",
       "      <td>Measles</td>\n",
       "      <td>2</td>\n",
       "    </tr>\n",
       "    <tr>\n",
       "      <th>2</th>\n",
       "      <td>Alameda</td>\n",
       "      <td>2011</td>\n",
       "      <td>Measles</td>\n",
       "      <td>1</td>\n",
       "    </tr>\n",
       "    <tr>\n",
       "      <th>3</th>\n",
       "      <td>Alameda</td>\n",
       "      <td>2012</td>\n",
       "      <td>Measles</td>\n",
       "      <td>0</td>\n",
       "    </tr>\n",
       "    <tr>\n",
       "      <th>4</th>\n",
       "      <td>Alameda</td>\n",
       "      <td>2013</td>\n",
       "      <td>Measles</td>\n",
       "      <td>1</td>\n",
       "    </tr>\n",
       "  </tbody>\n",
       "</table>\n",
       "</div>"
      ],
      "text/plain": [
       "    county  year  disease  count\n",
       "0  Alameda  2009  Measles      0\n",
       "1  Alameda  2010  Measles      2\n",
       "2  Alameda  2011  Measles      1\n",
       "3  Alameda  2012  Measles      0\n",
       "4  Alameda  2013  Measles      1"
      ]
     },
     "execution_count": 5,
     "metadata": {},
     "output_type": "execute_result"
    }
   ],
   "source": [
    "dd_complete_15.head()"
   ]
  },
  {
   "cell_type": "code",
   "execution_count": 6,
   "metadata": {},
   "outputs": [
    {
     "data": {
      "image/png": "[encoded data removed]",
      "text/plain": [
       "<Figure size 864x576 with 1 Axes>"
      ]
     },
     "metadata": {
      "needs_background": "light"
     },
     "output_type": "display_data"
    }
   ],
   "source": [
    "ct_LA = dd_complete_15.loc[dd_complete_15[\"county\"]==\"Los Angeles\"]\n",
    "pivLA_counties = ct_LA.pivot(index=\"year\",columns=\"disease\",values=\"count\")\n",
    "pivLA_counties.fillna(0, inplace=True)\n",
    "pivLA_counties.head(20)\n",
    "colors= [\"#A0F1D9\",\"#DE6BCF\",\"#2B86AB\",\"#1C010A\"]\n",
    "pivLA_counties.loc[:,[\"Pertussis\",\"Mumps\",\"Measles\",\"Tetanus\"]].plot.bar(stacked=True,color=colors,figsize=(12,8))\n",
    "plt.title(\"Vaccine Preventable Diseases in Los Angeles County\")\n",
    "plt.xlabel(\"Years Tracked by the California Dep. of Public Health\")\n",
    "plt.ylabel(\"Reported Cases of Vaccine Preventable Diseases\")\n",
    "plt.legend(loc=\"best\")\n",
    "plt.savefig(\"Vaccine Preventable Diseases in Los Angeles County.png\")\n",
    "plt.show()"
   ]
  },
  {
   "cell_type": "code",
   "execution_count": 7,
   "metadata": {},
   "outputs": [
    {
     "data": {
      "image/png": "[encoded data removed]",
      "text/plain": [
       "<Figure size 864x576 with 1 Axes>"
      ]
     },
     "metadata": {
      "needs_background": "light"
     },
     "output_type": "display_data"
    }
   ],
   "source": [
    "ct_LA = dd_complete_15.loc[dd_complete_15[\"county\"]==\"Alameda\"]\n",
    "pivLA_counties = ct_LA.pivot(index=\"year\",columns=\"disease\",values=\"count\")\n",
    "pivLA_counties.fillna(0, inplace=True)\n",
    "pivLA_counties.head(20)\n",
    "colors= [\"#A0F1D9\",\"#DE6BCF\",\"#2B86AB\",\"#1C010A\"]\n",
    "pivLA_counties.loc[:,[\"Pertussis\",\"Mumps\",\"Measles\",\"Tetanus\"]].plot.bar(stacked=True,color=colors,figsize=(12,8))\n",
    "plt.title(\"Vaccine Preventable Diseases in Alameda County\")\n",
    "plt.xlabel(\"Years Tracked by the California Dep. of Public Health\")\n",
    "plt.ylabel(\"Reported Cases of Vaccine Preventable Diseases\")\n",
    "plt.legend(loc=\"best\")\n",
    "plt.savefig(\"Vaccine Preventable Diseases in Alameda County.png\")\n",
    "plt.show()"
   ]
  },
  {
   "cell_type": "code",
   "execution_count": 8,
   "metadata": {},
   "outputs": [
    {
     "data": {
      "image/png": "[encoded data removed]",
      "text/plain": [
       "<Figure size 864x576 with 1 Axes>"
      ]
     },
     "metadata": {
      "needs_background": "light"
     },
     "output_type": "display_data"
    }
   ],
   "source": [
    "ct_LA = dd_complete_15.loc[dd_complete_15[\"county\"]==\"Sonoma\"]\n",
    "ct_LA.head()\n",
    "pivLA_counties = ct_LA.pivot(index=\"year\",columns=\"disease\",values=\"count\")\n",
    "pivLA_counties.fillna(0, inplace=True)\n",
    "#pivLA_counties.drop([\"2001\",\"2002\", \"2003\", \"2004\", \"2005\", \"2006\", \"2007\",\"2008\"])\n",
    "pivLA_counties.head(20)\n",
    "colors= [\"#A0F1D9\",\"#DE6BCF\",\"#2B86AB\",\"#1C010A\"]\n",
    "pivLA_counties.loc[:,[\"Pertussis\",\"Mumps\",\"Measles\",\"Tetanus\"]].plot.bar(stacked=True,color=colors,figsize=(12,8))\n",
    "plt.title(\"Vaccine Preventable Diseases in Somona County\")\n",
    "plt.xlabel(\"Years Tracked by the California Dep. of Public Health\")\n",
    "plt.ylabel(\"Reported Cases of Vaccine Preventable Diseases\")\n",
    "plt.legend(loc=\"best\")\n",
    "plt.savefig(\"Vaccine Preventable Diseases in Somona County.png\")\n",
    "plt.show()"
   ]
  },
  {
   "cell_type": "code",
   "execution_count": 9,
   "metadata": {},
   "outputs": [
    {
     "data": {
      "image/png": "[encoded data removed]",
      "text/plain": [
       "<Figure size 864x576 with 1 Axes>"
      ]
     },
     "metadata": {
      "needs_background": "light"
     },
     "output_type": "display_data"
    }
   ],
   "source": [
    "ct_LA = dd_complete_15.loc[dd_complete_15[\"county\"]==\"Yuba\"]\n",
    "pivLA_counties = ct_LA.pivot(index=\"year\",columns=\"disease\",values=\"count\")\n",
    "pivLA_counties.fillna(0, inplace=True)\n",
    "pivLA_counties.head(20)\n",
    "colors= [\"#A0F1D9\",\"#DE6BCF\",\"#2B86AB\",\"#1C010A\"]\n",
    "pivLA_counties.loc[:,[\"Pertussis\",\"Mumps\",\"Measles\",\"Tetanus\"]].plot.bar(stacked=True,color=colors,figsize=(12,8))\n",
    "plt.title(\"Vaccine Preventable Diseases in Yuba County\")\n",
    "plt.xlabel(\"Years Tracked by the California Dep. of Public Health\")\n",
    "plt.ylabel(\"Reported Cases of Vaccine Preventable Diseases\")\n",
    "plt.legend(loc=\"best\")\n",
    "plt.savefig(\"Vaccine Preventable Diseases in Yuba County.png\")\n",
    "plt.show()"
   ]
  },
  {
   "cell_type": "code",
   "execution_count": 81,
   "metadata": {},
   "outputs": [
    {
     "data": {
      "text/html": [
       "<div>\n",
       "<style scoped>\n",
       "    .dataframe tbody tr th:only-of-type {\n",
       "        vertical-align: middle;\n",
       "    }\n",
       "\n",
       "    .dataframe tbody tr th {\n",
       "        vertical-align: top;\n",
       "    }\n",
       "\n",
       "    .dataframe thead th {\n",
       "        text-align: right;\n",
       "    }\n",
       "</style>\n",
       "<table border=\"1\" class=\"dataframe\">\n",
       "  <thead>\n",
       "    <tr style=\"text-align: right;\">\n",
       "      <th></th>\n",
       "      <th>County</th>\n",
       "      <th>2009</th>\n",
       "      <th>2010</th>\n",
       "      <th>2011</th>\n",
       "      <th>2012</th>\n",
       "      <th>2013</th>\n",
       "      <th>2014</th>\n",
       "      <th>2015</th>\n",
       "      <th>2016</th>\n",
       "      <th>2017</th>\n",
       "      <th>2018</th>\n",
       "    </tr>\n",
       "  </thead>\n",
       "  <tbody>\n",
       "    <tr>\n",
       "      <th>0</th>\n",
       "      <td>Alameda County</td>\n",
       "      <td>1491482</td>\n",
       "      <td>1513043</td>\n",
       "      <td>1530998</td>\n",
       "      <td>1554138</td>\n",
       "      <td>1580247</td>\n",
       "      <td>1608674</td>\n",
       "      <td>1634634</td>\n",
       "      <td>1650306</td>\n",
       "      <td>1658131</td>\n",
       "      <td>1666753</td>\n",
       "    </tr>\n",
       "    <tr>\n",
       "      <th>1</th>\n",
       "      <td>El Dorado County</td>\n",
       "      <td>178447</td>\n",
       "      <td>181133</td>\n",
       "      <td>180918</td>\n",
       "      <td>180578</td>\n",
       "      <td>181497</td>\n",
       "      <td>183161</td>\n",
       "      <td>184660</td>\n",
       "      <td>186082</td>\n",
       "      <td>188722</td>\n",
       "      <td>190678</td>\n",
       "    </tr>\n",
       "    <tr>\n",
       "      <th>2</th>\n",
       "      <td>Kern County</td>\n",
       "      <td>807407</td>\n",
       "      <td>841072</td>\n",
       "      <td>848140</td>\n",
       "      <td>853963</td>\n",
       "      <td>862557</td>\n",
       "      <td>869957</td>\n",
       "      <td>877197</td>\n",
       "      <td>882361</td>\n",
       "      <td>888988</td>\n",
       "      <td>896764</td>\n",
       "    </tr>\n",
       "    <tr>\n",
       "      <th>3</th>\n",
       "      <td>Los Angeles County</td>\n",
       "      <td>9848011</td>\n",
       "      <td>9822433</td>\n",
       "      <td>9876727</td>\n",
       "      <td>9938436</td>\n",
       "      <td>9998105</td>\n",
       "      <td>10048408</td>\n",
       "      <td>10097037</td>\n",
       "      <td>10120540</td>\n",
       "      <td>10118759</td>\n",
       "      <td>10105518</td>\n",
       "    </tr>\n",
       "    <tr>\n",
       "      <th>4</th>\n",
       "      <td>Merced County</td>\n",
       "      <td>245321</td>\n",
       "      <td>256732</td>\n",
       "      <td>259333</td>\n",
       "      <td>260971</td>\n",
       "      <td>262198</td>\n",
       "      <td>264649</td>\n",
       "      <td>266651</td>\n",
       "      <td>267971</td>\n",
       "      <td>271340</td>\n",
       "      <td>274765</td>\n",
       "    </tr>\n",
       "  </tbody>\n",
       "</table>\n",
       "</div>"
      ],
      "text/plain": [
       "               County     2009     2010     2011     2012     2013      2014  \\\n",
       "0      Alameda County  1491482  1513043  1530998  1554138  1580247   1608674   \n",
       "1    El Dorado County   178447   181133   180918   180578   181497    183161   \n",
       "2         Kern County   807407   841072   848140   853963   862557    869957   \n",
       "3  Los Angeles County  9848011  9822433  9876727  9938436  9998105  10048408   \n",
       "4       Merced County   245321   256732   259333   260971   262198    264649   \n",
       "\n",
       "       2015      2016      2017      2018  \n",
       "0   1634634   1650306   1658131   1666753  \n",
       "1    184660    186082    188722    190678  \n",
       "2    877197    882361    888988    896764  \n",
       "3  10097037  10120540  10118759  10105518  \n",
       "4    266651    267971    271340    274765  "
      ]
     },
     "execution_count": 81,
     "metadata": {},
     "output_type": "execute_result"
    }
   ],
   "source": [
    "file = 'Population_Data.csv'\n",
    "pop_read = pd.read_csv(file)\n",
    "pop_read.head()"
   ]
  },
  {
   "cell_type": "code",
   "execution_count": 85,
   "metadata": {},
   "outputs": [
    {
     "data": {
      "text/html": [
       "<div>\n",
       "<style scoped>\n",
       "    .dataframe tbody tr th:only-of-type {\n",
       "        vertical-align: middle;\n",
       "    }\n",
       "\n",
       "    .dataframe tbody tr th {\n",
       "        vertical-align: top;\n",
       "    }\n",
       "\n",
       "    .dataframe thead th {\n",
       "        text-align: right;\n",
       "    }\n",
       "</style>\n",
       "<table border=\"1\" class=\"dataframe\">\n",
       "  <thead>\n",
       "    <tr style=\"text-align: right;\">\n",
       "      <th></th>\n",
       "      <th>2014</th>\n",
       "    </tr>\n",
       "    <tr>\n",
       "      <th>County</th>\n",
       "      <th></th>\n",
       "    </tr>\n",
       "  </thead>\n",
       "  <tbody>\n",
       "    <tr>\n",
       "      <th>Alameda</th>\n",
       "      <td>1608674</td>\n",
       "    </tr>\n",
       "    <tr>\n",
       "      <th>El Dorado</th>\n",
       "      <td>183161</td>\n",
       "    </tr>\n",
       "    <tr>\n",
       "      <th>Kern</th>\n",
       "      <td>869957</td>\n",
       "    </tr>\n",
       "    <tr>\n",
       "      <th>Los Angeles</th>\n",
       "      <td>10048408</td>\n",
       "    </tr>\n",
       "    <tr>\n",
       "      <th>Merced</th>\n",
       "      <td>264649</td>\n",
       "    </tr>\n",
       "  </tbody>\n",
       "</table>\n",
       "</div>"
      ],
      "text/plain": [
       "                 2014\n",
       "County               \n",
       "Alameda       1608674\n",
       "El Dorado      183161\n",
       "Kern           869957\n",
       "Los Angeles  10048408\n",
       "Merced         264649"
      ]
     },
     "execution_count": 85,
     "metadata": {},
     "output_type": "execute_result"
    }
   ],
   "source": [
    "pop_read = pop_read.replace({\"County\":{'Alameda County':'Alameda', 'El Dorado County':'El Dorado', 'Kern County':'Kern',\n",
    "       'Los Angeles County':'Los Angeles', 'Merced County':'Merced', 'Napa County':'Napa',\n",
    "       'Orange County':'Orange', 'Sacramento County':'Sacramento', 'San Diego County':'San Diego',\n",
    "       'San Mateo County':'San Mateo', 'Santa Barbara County':'Santa Barbara', 'Sierra County':'Sierra',\n",
    "       'Sonoma County':'Sonoma', 'Ventura County':'Ventura', 'Yuba County':'Yuba'}})\n",
    "pop_read.head()\n",
    "piv_pop = pop_read.set_index(\"County\")\n",
    "piv_pop_2014 = piv_pop[[\"2014\"]]\n",
    "piv_pop_2014.head()"
   ]
  },
  {
   "cell_type": "code",
   "execution_count": 86,
   "metadata": {},
   "outputs": [
    {
     "data": {
      "text/html": [
       "<div>\n",
       "<style scoped>\n",
       "    .dataframe tbody tr th:only-of-type {\n",
       "        vertical-align: middle;\n",
       "    }\n",
       "\n",
       "    .dataframe tbody tr th {\n",
       "        vertical-align: top;\n",
       "    }\n",
       "\n",
       "    .dataframe thead th {\n",
       "        text-align: right;\n",
       "    }\n",
       "</style>\n",
       "<table border=\"1\" class=\"dataframe\">\n",
       "  <thead>\n",
       "    <tr style=\"text-align: right;\">\n",
       "      <th></th>\n",
       "      <th>disease</th>\n",
       "      <th>count</th>\n",
       "    </tr>\n",
       "    <tr>\n",
       "      <th>County</th>\n",
       "      <th></th>\n",
       "      <th></th>\n",
       "    </tr>\n",
       "  </thead>\n",
       "  <tbody>\n",
       "    <tr>\n",
       "      <th>Alameda</th>\n",
       "      <td>Measles</td>\n",
       "      <td>6</td>\n",
       "    </tr>\n",
       "    <tr>\n",
       "      <th>El Dorado</th>\n",
       "      <td>Measles</td>\n",
       "      <td>0</td>\n",
       "    </tr>\n",
       "    <tr>\n",
       "      <th>Kern</th>\n",
       "      <td>Measles</td>\n",
       "      <td>0</td>\n",
       "    </tr>\n",
       "    <tr>\n",
       "      <th>Los Angeles</th>\n",
       "      <td>Measles</td>\n",
       "      <td>14</td>\n",
       "    </tr>\n",
       "    <tr>\n",
       "      <th>Merced</th>\n",
       "      <td>Measles</td>\n",
       "      <td>0</td>\n",
       "    </tr>\n",
       "  </tbody>\n",
       "</table>\n",
       "</div>"
      ],
      "text/plain": [
       "             disease  count\n",
       "County                     \n",
       "Alameda      Measles      6\n",
       "El Dorado    Measles      0\n",
       "Kern         Measles      0\n",
       "Los Angeles  Measles     14\n",
       "Merced       Measles      0"
      ]
     },
     "execution_count": 86,
     "metadata": {},
     "output_type": "execute_result"
    }
   ],
   "source": [
    "drop_allbut_2014 = dd_complete_15.set_index(\"year\")\n",
    "drop_allbut_2014 = drop_allbut_2014.drop([2009,2010,2011,2012,2013,2015,2016,2017])\n",
    "drop_allbut_2014 = drop_allbut_2014.rename(columns={\"county\":\"County\"})\n",
    "drop_allbut_2014 = drop_allbut_2014.set_index(\"County\")\n",
    "drop_allbut_2014.head()"
   ]
  },
  {
   "cell_type": "code",
   "execution_count": 87,
   "metadata": {},
   "outputs": [
    {
     "data": {
      "text/html": [
       "<div>\n",
       "<style scoped>\n",
       "    .dataframe tbody tr th:only-of-type {\n",
       "        vertical-align: middle;\n",
       "    }\n",
       "\n",
       "    .dataframe tbody tr th {\n",
       "        vertical-align: top;\n",
       "    }\n",
       "\n",
       "    .dataframe thead th {\n",
       "        text-align: right;\n",
       "    }\n",
       "</style>\n",
       "<table border=\"1\" class=\"dataframe\">\n",
       "  <thead>\n",
       "    <tr style=\"text-align: right;\">\n",
       "      <th>disease</th>\n",
       "      <th>Measles</th>\n",
       "      <th>Mumps</th>\n",
       "      <th>Pertussis</th>\n",
       "      <th>Tetanus</th>\n",
       "    </tr>\n",
       "    <tr>\n",
       "      <th>County</th>\n",
       "      <th></th>\n",
       "      <th></th>\n",
       "      <th></th>\n",
       "      <th></th>\n",
       "    </tr>\n",
       "  </thead>\n",
       "  <tbody>\n",
       "    <tr>\n",
       "      <th>Alameda</th>\n",
       "      <td>6</td>\n",
       "      <td>1</td>\n",
       "      <td>419</td>\n",
       "      <td>0</td>\n",
       "    </tr>\n",
       "    <tr>\n",
       "      <th>El Dorado</th>\n",
       "      <td>0</td>\n",
       "      <td>0</td>\n",
       "      <td>36</td>\n",
       "      <td>0</td>\n",
       "    </tr>\n",
       "    <tr>\n",
       "      <th>Kern</th>\n",
       "      <td>0</td>\n",
       "      <td>0</td>\n",
       "      <td>167</td>\n",
       "      <td>0</td>\n",
       "    </tr>\n",
       "    <tr>\n",
       "      <th>Los Angeles</th>\n",
       "      <td>14</td>\n",
       "      <td>11</td>\n",
       "      <td>2206</td>\n",
       "      <td>1</td>\n",
       "    </tr>\n",
       "    <tr>\n",
       "      <th>Merced</th>\n",
       "      <td>0</td>\n",
       "      <td>0</td>\n",
       "      <td>9</td>\n",
       "      <td>0</td>\n",
       "    </tr>\n",
       "  </tbody>\n",
       "</table>\n",
       "</div>"
      ],
      "text/plain": [
       "disease      Measles  Mumps  Pertussis  Tetanus\n",
       "County                                         \n",
       "Alameda            6      1        419        0\n",
       "El Dorado          0      0         36        0\n",
       "Kern               0      0        167        0\n",
       "Los Angeles       14     11       2206        1\n",
       "Merced             0      0          9        0"
      ]
     },
     "execution_count": 87,
     "metadata": {},
     "output_type": "execute_result"
    }
   ],
   "source": [
    "only_2014 = drop_allbut_2014.pivot(columns=\"disease\", values=\"count\")\n",
    "only_2014.head()"
   ]
  },
  {
   "cell_type": "code",
   "execution_count": 91,
   "metadata": {},
   "outputs": [
    {
     "data": {
      "text/html": [
       "<div>\n",
       "<style scoped>\n",
       "    .dataframe tbody tr th:only-of-type {\n",
       "        vertical-align: middle;\n",
       "    }\n",
       "\n",
       "    .dataframe tbody tr th {\n",
       "        vertical-align: top;\n",
       "    }\n",
       "\n",
       "    .dataframe thead th {\n",
       "        text-align: right;\n",
       "    }\n",
       "</style>\n",
       "<table border=\"1\" class=\"dataframe\">\n",
       "  <thead>\n",
       "    <tr style=\"text-align: right;\">\n",
       "      <th></th>\n",
       "      <th>Measles</th>\n",
       "      <th>Mumps</th>\n",
       "      <th>Pertussis</th>\n",
       "      <th>Tetanus</th>\n",
       "      <th>Population</th>\n",
       "    </tr>\n",
       "    <tr>\n",
       "      <th>County</th>\n",
       "      <th></th>\n",
       "      <th></th>\n",
       "      <th></th>\n",
       "      <th></th>\n",
       "      <th></th>\n",
       "    </tr>\n",
       "  </thead>\n",
       "  <tbody>\n",
       "    <tr>\n",
       "      <th>Alameda</th>\n",
       "      <td>6</td>\n",
       "      <td>1</td>\n",
       "      <td>419</td>\n",
       "      <td>0</td>\n",
       "      <td>1608674</td>\n",
       "    </tr>\n",
       "    <tr>\n",
       "      <th>El Dorado</th>\n",
       "      <td>0</td>\n",
       "      <td>0</td>\n",
       "      <td>36</td>\n",
       "      <td>0</td>\n",
       "      <td>183161</td>\n",
       "    </tr>\n",
       "    <tr>\n",
       "      <th>Kern</th>\n",
       "      <td>0</td>\n",
       "      <td>0</td>\n",
       "      <td>167</td>\n",
       "      <td>0</td>\n",
       "      <td>869957</td>\n",
       "    </tr>\n",
       "    <tr>\n",
       "      <th>Los Angeles</th>\n",
       "      <td>14</td>\n",
       "      <td>11</td>\n",
       "      <td>2206</td>\n",
       "      <td>1</td>\n",
       "      <td>10048408</td>\n",
       "    </tr>\n",
       "    <tr>\n",
       "      <th>Merced</th>\n",
       "      <td>0</td>\n",
       "      <td>0</td>\n",
       "      <td>9</td>\n",
       "      <td>0</td>\n",
       "      <td>264649</td>\n",
       "    </tr>\n",
       "  </tbody>\n",
       "</table>\n",
       "</div>"
      ],
      "text/plain": [
       "             Measles  Mumps  Pertussis  Tetanus  Population\n",
       "County                                                     \n",
       "Alameda            6      1        419        0     1608674\n",
       "El Dorado          0      0         36        0      183161\n",
       "Kern               0      0        167        0      869957\n",
       "Los Angeles       14     11       2206        1    10048408\n",
       "Merced             0      0          9        0      264649"
      ]
     },
     "execution_count": 91,
     "metadata": {},
     "output_type": "execute_result"
    }
   ],
   "source": [
    "ct15_4d = only_2014.merge(piv_pop_2014, how=\"inner\",left_index=True, right_index=True)\n",
    "ct15_4d = ct15_4d.rename(columns={\"2014\":\"Population\"})\n",
    "ct15_4d.head()"
   ]
  },
  {
   "cell_type": "code",
   "execution_count": 101,
   "metadata": {},
   "outputs": [
    {
     "data": {
      "image/png": "[encoded data removed]",
      "text/plain": [
       "<Figure size 864x576 with 1 Axes>"
      ]
     },
     "metadata": {
      "needs_background": "light"
     },
     "output_type": "display_data"
    }
   ],
   "source": [
    "ct15_4d[\"Ratio Measles\"] = (ct15_4d[\"Measles\"]/ct15_4d[\"Population\"])*100\n",
    "ct15_4d[\"Ratio Mumps\"] = (ct15_4d[\"Mumps\"]/ct15_4d[\"Population\"])*100\n",
    "ct15_4d[\"Ratio Pertussis\"] = (ct15_4d[\"Pertussis\"]/ct15_4d[\"Population\"])*100\n",
    "ct15_4d[\"Ratio Tetanus\"] = (ct15_4d[\"Measles\"]/ct15_4d[\"Population\"])*100\n",
    "ct15_4d.head()\n",
    "plot15 = ct15_4d.loc[:,[\"Ratio Pertussis\",\"Ratio Mumps\",\"Ratio Measles\",\"Ratio Tetanus\"]].plot.bar(stacked=True,color=colors,figsize=(12,8))\n",
    "# plt.title(\"Vaccine Preventable Diseases in Yuba County\")\n",
    "# plt.xlabel(\"Years Tracked by the California Dep. of Public Health\")\n",
    "# plt.ylabel(\"Reported Cases of Vaccine Preventable Diseases\")\n",
    "# plt.legend(loc=\"best\")\n",
    "# plt.savefig(\"Vaccine Preventable Diseases in Yuba County.png\")\n",
    "# plt.show()"
   ]
  },
  {
   "cell_type": "code",
   "execution_count": 102,
   "metadata": {},
   "outputs": [],
   "source": [
    "# Los Angelos (10 million)\n",
    "# Alameda (1.6 million)\n",
    "# Orange County ( 3.1 million)\n",
    "# Sacramento (1.5 million)\n",
    "# San Diego (3.3 million)\n",
    "# Kern county (900,000)\n",
    "# Venture (850,000)\n",
    "# San Mateo (750,000)\n",
    "# Sonoma (500,000)\n",
    "# Santa Barbara (450,000)\n",
    "# Merced (280,000)\n",
    "# El Dorado (200,000)\n",
    "# Napa (140,000)\n",
    "# Yuba (80,000)\n",
    "# Sierra County (3,000)"
   ]
  }
 ],
 "metadata": {
  "kernelspec": {
   "display_name": "Python 3",
   "language": "python",
   "name": "python3"
  },
  "language_info": {
   "codemirror_mode": {
    "name": "ipython",
    "version": 3
   },
   "file_extension": ".py",
   "mimetype": "text/x-python",
   "name": "python",
   "nbconvert_exporter": "python",
   "pygments_lexer": "ipython3",
   "version": "3.7.3"
  }
 },
 "nbformat": 4,
 "nbformat_minor": 2
}
